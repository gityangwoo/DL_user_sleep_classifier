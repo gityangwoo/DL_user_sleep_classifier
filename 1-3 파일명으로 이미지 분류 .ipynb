{
 "cells": [
  {
   "cell_type": "code",
   "execution_count": 1,
   "metadata": {},
   "outputs": [],
   "source": [
    "import os\n",
    "import shutil"
   ]
  },
  {
   "cell_type": "code",
   "execution_count": 2,
   "metadata": {},
   "outputs": [],
   "source": [
    "def fileList(path_dir : str)->list :\n",
    "    file_list = os.listdir(path_dir) #폴더의 파일명을 리스트화\n",
    "    category = [] #분류 데이터 저장을 위해 빈 리스트 생성\n",
    "    for file in file_list:\n",
    "        temp_list = file.split(\"_\") #파일명중 \"_\"로 분리하여 리스트화\n",
    "        category.append(temp_list[-4]) #리스트의 -4 인덱싱 데이터를 category에 추가\n",
    "\n",
    "    temp_set = set(category) #중복을 제거하기 위해 set 사용\n",
    "    result = list(temp_set) #중복 제거 후 다시 리스트화\n",
    "    return result #결과 리턴"
   ]
  },
  {
   "cell_type": "code",
   "execution_count": 3,
   "metadata": {},
   "outputs": [],
   "source": [
    "path_dir = 'C:/Users/kangminju/Documents/DL_ws/원천_Training_통제환경'"
   ]
  },
  {
   "cell_type": "code",
   "execution_count": 4,
   "metadata": {},
   "outputs": [],
   "source": [
    "file_list = fileList(path_dir)"
   ]
  },
  {
   "cell_type": "code",
   "execution_count": 57,
   "metadata": {},
   "outputs": [],
   "source": [
    "# 분류 리스트를 받아와서 정해진 위치에 폴더 생성\n",
    "def makeFolder(path_after : str, file_list : list):    \n",
    "    #폴더가 이미 생성되어있다면 오류가 발생하므로 예외처리 진행\n",
    "    for file in file_list:\n",
    "        try:\n",
    "            os.makedirs(path_after+\"/\"+file)\n",
    "        except:\n",
    "            pass"
   ]
  },
  {
   "cell_type": "code",
   "execution_count": 62,
   "metadata": {},
   "outputs": [],
   "source": [
    "path_after = 'C:/Users/kangminju/Documents/DL_ws/원천_Training_통제환경분류'"
   ]
  },
  {
   "cell_type": "code",
   "execution_count": 63,
   "metadata": {},
   "outputs": [],
   "source": [
    "makeFolder(path_after, file_list)"
   ]
  },
  {
   "cell_type": "code",
   "execution_count": 64,
   "metadata": {},
   "outputs": [],
   "source": [
    "#파일을 폴더 분류에 맞게 이동\n",
    "def moveFile(path_before, path_after):\n",
    "    folderlist = os.listdir(path_after) #이동시킬 경로에 생성된 분류별 폴더 리스트화\n",
    "    filelist = os.listdir(path_before) #이동시킬 파일명들을 리스트화\n",
    "    dict = {} #빈 딕셔너리 생성\n",
    "\n",
    "    #파일명에 대한 폴더명을 딕셔너리로 저장\n",
    "    for file in filelist:\n",
    "        temp_list = file.split(\"_\") \n",
    "        dict[file]=temp_list[-4] # {'파일명' : '분류'} 형태의 딕셔너리 생성\n",
    "    \n",
    "    #딕셔너리 정보 활용하여 파일 이동\n",
    "    for key, value in dict.items():\n",
    "        shutil.move(path_before+\"/\"+key, path_after+\"/\"+value)"
   ]
  },
  {
   "cell_type": "code",
   "execution_count": 65,
   "metadata": {},
   "outputs": [],
   "source": [
    "moveFile(path_dir, path_after)"
   ]
  },
  {
   "cell_type": "code",
   "execution_count": null,
   "metadata": {},
   "outputs": [],
   "source": []
  }
 ],
 "metadata": {
  "kernelspec": {
   "display_name": "python 3.8.15('ds_study':conda)",
   "language": "python",
   "name": "ds_study"
  },
  "language_info": {
   "codemirror_mode": {
    "name": "ipython",
    "version": 3
   },
   "file_extension": ".py",
   "mimetype": "text/x-python",
   "name": "python",
   "nbconvert_exporter": "python",
   "pygments_lexer": "ipython3",
   "version": "3.8.15"
  },
  "orig_nbformat": 4
 },
 "nbformat": 4,
 "nbformat_minor": 2
}
