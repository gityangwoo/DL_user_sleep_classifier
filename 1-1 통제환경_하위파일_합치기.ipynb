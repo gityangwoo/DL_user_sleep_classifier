{
 "cells": [
  {
   "cell_type": "code",
   "execution_count": null,
   "metadata": {},
   "outputs": [],
   "source": [
    "import os\n",
    "import shutil"
   ]
  },
  {
   "cell_type": "code",
   "execution_count": null,
   "metadata": {},
   "outputs": [],
   "source": [
    "def read_all_file(path):\n",
    "    output = os.listdir(path)\n",
    "    file_list = []\n",
    "\n",
    "    for i in output:\n",
    "        if os.path.isdir(path+\"/\"+i): \n",
    "            file_list.extend(read_all_file(path+\"/\"+i)) \n",
    "        elif os.path.isfile(path+\"/\"+i):\n",
    "            file_list.append(path+\"/\"+i)\n",
    "\n",
    "    return file_list"
   ]
  },
  {
   "cell_type": "code",
   "execution_count": null,
   "metadata": {},
   "outputs": [],
   "source": [
    "def copy_all_file(file_list, new_path):\n",
    "    for src_path in file_list:\n",
    "        file = src_path.split(\"/\")[-1]\n",
    "        shutil.copyfile(src_path, new_path+\"/\"+file)"
   ]
  },
  {
   "cell_type": "code",
   "execution_count": null,
   "metadata": {},
   "outputs": [],
   "source": [
    "src_path = \"C:/Users/kangminju/Documents/DL_ws/졸음운전 예방을 위한 운전자 상태 정보 영상(원천)/Training/[원천]bbox(통제환경)\" \n",
    "new_path = \"C:/Users/kangminju/Documents/DL_ws/원천_Training_통제환경\"\n",
    "\n",
    "file_list = read_all_file(src_path)\n",
    "copy_all_file(file_list, new_path)"
   ]
  },
  {
   "cell_type": "code",
   "execution_count": null,
   "metadata": {},
   "outputs": [],
   "source": []
  },
  {
   "cell_type": "code",
   "execution_count": null,
   "metadata": {},
   "outputs": [],
   "source": []
  },
  {
   "cell_type": "code",
   "execution_count": null,
   "metadata": {},
   "outputs": [],
   "source": []
  }
 ],
 "metadata": {
  "kernelspec": {
   "display_name": "python 3.8.15('ds_study':conda)",
   "language": "python",
   "name": "ds_study"
  },
  "orig_nbformat": 4
 },
 "nbformat": 4,
 "nbformat_minor": 2
}
