{
 "cells": [
  {
   "cell_type": "code",
   "execution_count": 1,
   "metadata": {},
   "outputs": [],
   "source": [
    "import pandas as pd\n",
    "import matplotlib.pyplot as plt\n",
    "import seaborn as sns"
   ]
  },
  {
   "cell_type": "code",
   "execution_count": 3,
   "metadata": {},
   "outputs": [],
   "source": [
    "df = pd.read_csv(\"./concat_labeled_json_file_val.csv\", index_col = 0, encoding = 'utf-8')"
   ]
  },
  {
   "cell_type": "code",
   "execution_count": 4,
   "metadata": {},
   "outputs": [
    {
     "data": {
      "text/html": [
       "<div>\n",
       "<style scoped>\n",
       "    .dataframe tbody tr th:only-of-type {\n",
       "        vertical-align: middle;\n",
       "    }\n",
       "\n",
       "    .dataframe tbody tr th {\n",
       "        vertical-align: top;\n",
       "    }\n",
       "\n",
       "    .dataframe thead th {\n",
       "        text-align: right;\n",
       "    }\n",
       "</style>\n",
       "<table border=\"1\" class=\"dataframe\">\n",
       "  <thead>\n",
       "    <tr style=\"text-align: right;\">\n",
       "      <th></th>\n",
       "      <th>FileName</th>\n",
       "      <th>Width</th>\n",
       "      <th>Height</th>\n",
       "      <th>label</th>\n",
       "      <th>Mask</th>\n",
       "      <th>Glasses</th>\n",
       "      <th>Cap</th>\n",
       "      <th>Annotation</th>\n",
       "      <th>Face_TF</th>\n",
       "      <th>Face_BB</th>\n",
       "      <th>Leye_TF</th>\n",
       "      <th>Leye_BB</th>\n",
       "      <th>Reye_TF</th>\n",
       "      <th>Reye_BB</th>\n",
       "      <th>Mouth_TF</th>\n",
       "      <th>Mouth_BB</th>\n",
       "      <th>Cigar_TF</th>\n",
       "      <th>Cigar_BB</th>\n",
       "      <th>Phone_TF</th>\n",
       "      <th>Phone_BB</th>\n",
       "    </tr>\n",
       "  </thead>\n",
       "  <tbody>\n",
       "    <tr>\n",
       "      <th>0</th>\n",
       "      <td>045_G1_01_무광원_계기판_정상주시_20200929_110850_02193.jpg</td>\n",
       "      <td>800</td>\n",
       "      <td>1280</td>\n",
       "      <td>normal</td>\n",
       "      <td>False</td>\n",
       "      <td>False</td>\n",
       "      <td>False</td>\n",
       "      <td>1</td>\n",
       "      <td>True</td>\n",
       "      <td>[275, 620, 556, 924]</td>\n",
       "      <td>True</td>\n",
       "      <td>[317, 653, 388, 690]</td>\n",
       "      <td>True</td>\n",
       "      <td>[438, 651, 519, 692]</td>\n",
       "      <td>True</td>\n",
       "      <td>[356, 791, 471, 836]</td>\n",
       "      <td>False</td>\n",
       "      <td>[0, 0, 0, 0]</td>\n",
       "      <td>False</td>\n",
       "      <td>[0, 0, 0, 0]</td>\n",
       "    </tr>\n",
       "    <tr>\n",
       "      <th>1</th>\n",
       "      <td>045_G1_01_무광원_계기판_정상주시_20200929_110850_02244.jpg</td>\n",
       "      <td>800</td>\n",
       "      <td>1280</td>\n",
       "      <td>normal</td>\n",
       "      <td>False</td>\n",
       "      <td>False</td>\n",
       "      <td>False</td>\n",
       "      <td>1</td>\n",
       "      <td>True</td>\n",
       "      <td>[279, 615, 563, 921]</td>\n",
       "      <td>True</td>\n",
       "      <td>[318, 645, 398, 686]</td>\n",
       "      <td>True</td>\n",
       "      <td>[445, 650, 525, 691]</td>\n",
       "      <td>True</td>\n",
       "      <td>[356, 785, 473, 837]</td>\n",
       "      <td>False</td>\n",
       "      <td>[0, 0, 0, 0]</td>\n",
       "      <td>False</td>\n",
       "      <td>[0, 0, 0, 0]</td>\n",
       "    </tr>\n",
       "    <tr>\n",
       "      <th>2</th>\n",
       "      <td>045_G1_01_무광원_계기판_졸음재현_20200929_110850_02369.jpg</td>\n",
       "      <td>800</td>\n",
       "      <td>1280</td>\n",
       "      <td>sleep</td>\n",
       "      <td>False</td>\n",
       "      <td>False</td>\n",
       "      <td>False</td>\n",
       "      <td>1</td>\n",
       "      <td>True</td>\n",
       "      <td>[257, 674, 564, 969]</td>\n",
       "      <td>True</td>\n",
       "      <td>[293, 704, 385, 757]</td>\n",
       "      <td>True</td>\n",
       "      <td>[435, 708, 537, 759]</td>\n",
       "      <td>True</td>\n",
       "      <td>[355, 870, 467, 913]</td>\n",
       "      <td>False</td>\n",
       "      <td>[0, 0, 0, 0]</td>\n",
       "      <td>False</td>\n",
       "      <td>[0, 0, 0, 0]</td>\n",
       "    </tr>\n",
       "    <tr>\n",
       "      <th>3</th>\n",
       "      <td>045_G1_01_무광원_계기판_졸음재현_20200929_110850_02384.jpg</td>\n",
       "      <td>800</td>\n",
       "      <td>1280</td>\n",
       "      <td>sleep</td>\n",
       "      <td>False</td>\n",
       "      <td>False</td>\n",
       "      <td>False</td>\n",
       "      <td>1</td>\n",
       "      <td>True</td>\n",
       "      <td>[238, 757, 563, 1036]</td>\n",
       "      <td>True</td>\n",
       "      <td>[277, 807, 367, 854]</td>\n",
       "      <td>True</td>\n",
       "      <td>[433, 807, 524, 850]</td>\n",
       "      <td>True</td>\n",
       "      <td>[351, 953, 468, 1002]</td>\n",
       "      <td>False</td>\n",
       "      <td>[0, 0, 0, 0]</td>\n",
       "      <td>False</td>\n",
       "      <td>[0, 0, 0, 0]</td>\n",
       "    </tr>\n",
       "    <tr>\n",
       "      <th>4</th>\n",
       "      <td>045_G1_01_무광원_계기판_하품재현_20200929_110850_02500.jpg</td>\n",
       "      <td>800</td>\n",
       "      <td>1280</td>\n",
       "      <td>yawn</td>\n",
       "      <td>False</td>\n",
       "      <td>False</td>\n",
       "      <td>False</td>\n",
       "      <td>1</td>\n",
       "      <td>True</td>\n",
       "      <td>[282, 599, 559, 917]</td>\n",
       "      <td>True</td>\n",
       "      <td>[325, 626, 400, 670]</td>\n",
       "      <td>True</td>\n",
       "      <td>[446, 630, 527, 676]</td>\n",
       "      <td>True</td>\n",
       "      <td>[365, 758, 466, 843]</td>\n",
       "      <td>False</td>\n",
       "      <td>[0, 0, 0, 0]</td>\n",
       "      <td>False</td>\n",
       "      <td>[0, 0, 0, 0]</td>\n",
       "    </tr>\n",
       "  </tbody>\n",
       "</table>\n",
       "</div>"
      ],
      "text/plain": [
       "                                           FileName  Width  Height   label  \\\n",
       "0  045_G1_01_무광원_계기판_정상주시_20200929_110850_02193.jpg    800    1280  normal   \n",
       "1  045_G1_01_무광원_계기판_정상주시_20200929_110850_02244.jpg    800    1280  normal   \n",
       "2  045_G1_01_무광원_계기판_졸음재현_20200929_110850_02369.jpg    800    1280   sleep   \n",
       "3  045_G1_01_무광원_계기판_졸음재현_20200929_110850_02384.jpg    800    1280   sleep   \n",
       "4  045_G1_01_무광원_계기판_하품재현_20200929_110850_02500.jpg    800    1280    yawn   \n",
       "\n",
       "    Mask  Glasses    Cap  Annotation  Face_TF                Face_BB  Leye_TF  \\\n",
       "0  False    False  False           1     True   [275, 620, 556, 924]     True   \n",
       "1  False    False  False           1     True   [279, 615, 563, 921]     True   \n",
       "2  False    False  False           1     True   [257, 674, 564, 969]     True   \n",
       "3  False    False  False           1     True  [238, 757, 563, 1036]     True   \n",
       "4  False    False  False           1     True   [282, 599, 559, 917]     True   \n",
       "\n",
       "                Leye_BB  Reye_TF               Reye_BB  Mouth_TF  \\\n",
       "0  [317, 653, 388, 690]     True  [438, 651, 519, 692]      True   \n",
       "1  [318, 645, 398, 686]     True  [445, 650, 525, 691]      True   \n",
       "2  [293, 704, 385, 757]     True  [435, 708, 537, 759]      True   \n",
       "3  [277, 807, 367, 854]     True  [433, 807, 524, 850]      True   \n",
       "4  [325, 626, 400, 670]     True  [446, 630, 527, 676]      True   \n",
       "\n",
       "                Mouth_BB  Cigar_TF      Cigar_BB  Phone_TF      Phone_BB  \n",
       "0   [356, 791, 471, 836]     False  [0, 0, 0, 0]     False  [0, 0, 0, 0]  \n",
       "1   [356, 785, 473, 837]     False  [0, 0, 0, 0]     False  [0, 0, 0, 0]  \n",
       "2   [355, 870, 467, 913]     False  [0, 0, 0, 0]     False  [0, 0, 0, 0]  \n",
       "3  [351, 953, 468, 1002]     False  [0, 0, 0, 0]     False  [0, 0, 0, 0]  \n",
       "4   [365, 758, 466, 843]     False  [0, 0, 0, 0]     False  [0, 0, 0, 0]  "
      ]
     },
     "execution_count": 4,
     "metadata": {},
     "output_type": "execute_result"
    }
   ],
   "source": [
    "df.head()"
   ]
  },
  {
   "cell_type": "code",
   "execution_count": 8,
   "metadata": {},
   "outputs": [],
   "source": [
    "df_val = df\n",
    "df_val['data_type'] = 'validation'"
   ]
  },
  {
   "cell_type": "code",
   "execution_count": 9,
   "metadata": {},
   "outputs": [],
   "source": [
    "df_train = pd.read_csv(\"./concat_labeled_json_file_train.csv\", index_col = 0, encoding = 'utf-8')\n",
    "df_train['data_type'] = 'train'"
   ]
  },
  {
   "cell_type": "code",
   "execution_count": 10,
   "metadata": {},
   "outputs": [
    {
     "data": {
      "text/html": [
       "<div>\n",
       "<style scoped>\n",
       "    .dataframe tbody tr th:only-of-type {\n",
       "        vertical-align: middle;\n",
       "    }\n",
       "\n",
       "    .dataframe tbody tr th {\n",
       "        vertical-align: top;\n",
       "    }\n",
       "\n",
       "    .dataframe thead th {\n",
       "        text-align: right;\n",
       "    }\n",
       "</style>\n",
       "<table border=\"1\" class=\"dataframe\">\n",
       "  <thead>\n",
       "    <tr style=\"text-align: right;\">\n",
       "      <th></th>\n",
       "      <th>FileName</th>\n",
       "      <th>Width</th>\n",
       "      <th>Height</th>\n",
       "      <th>label</th>\n",
       "      <th>Mask</th>\n",
       "      <th>Glasses</th>\n",
       "      <th>Cap</th>\n",
       "      <th>Annotation</th>\n",
       "      <th>Face_TF</th>\n",
       "      <th>Face_BB</th>\n",
       "      <th>...</th>\n",
       "      <th>Leye_BB</th>\n",
       "      <th>Reye_TF</th>\n",
       "      <th>Reye_BB</th>\n",
       "      <th>Mouth_TF</th>\n",
       "      <th>Mouth_BB</th>\n",
       "      <th>Cigar_TF</th>\n",
       "      <th>Cigar_BB</th>\n",
       "      <th>Phone_TF</th>\n",
       "      <th>Phone_BB</th>\n",
       "      <th>data_type</th>\n",
       "    </tr>\n",
       "  </thead>\n",
       "  <tbody>\n",
       "    <tr>\n",
       "      <th>0</th>\n",
       "      <td>001_G1_01_무광원_계기판_정상주시_20200917_182234_02144.jpg</td>\n",
       "      <td>800</td>\n",
       "      <td>1280</td>\n",
       "      <td>normal</td>\n",
       "      <td>False</td>\n",
       "      <td>False</td>\n",
       "      <td>False</td>\n",
       "      <td>1</td>\n",
       "      <td>True</td>\n",
       "      <td>[245, 628, 551, 904]</td>\n",
       "      <td>...</td>\n",
       "      <td>[291, 665, 373, 706]</td>\n",
       "      <td>True</td>\n",
       "      <td>[418, 660, 499, 701]</td>\n",
       "      <td>True</td>\n",
       "      <td>[351, 815, 450, 848]</td>\n",
       "      <td>False</td>\n",
       "      <td>[0, 0, 0, 0]</td>\n",
       "      <td>False</td>\n",
       "      <td>[0, 0, 0, 0]</td>\n",
       "      <td>train</td>\n",
       "    </tr>\n",
       "    <tr>\n",
       "      <th>1</th>\n",
       "      <td>001_G1_01_무광원_계기판_정상주시_20200917_182234_02150.jpg</td>\n",
       "      <td>800</td>\n",
       "      <td>1280</td>\n",
       "      <td>normal</td>\n",
       "      <td>False</td>\n",
       "      <td>False</td>\n",
       "      <td>False</td>\n",
       "      <td>1</td>\n",
       "      <td>True</td>\n",
       "      <td>[256, 633, 561, 907]</td>\n",
       "      <td>...</td>\n",
       "      <td>[298, 665, 372, 704]</td>\n",
       "      <td>True</td>\n",
       "      <td>[418, 664, 499, 705]</td>\n",
       "      <td>True</td>\n",
       "      <td>[356, 814, 450, 852]</td>\n",
       "      <td>False</td>\n",
       "      <td>[0, 0, 0, 0]</td>\n",
       "      <td>False</td>\n",
       "      <td>[0, 0, 0, 0]</td>\n",
       "      <td>train</td>\n",
       "    </tr>\n",
       "    <tr>\n",
       "      <th>2</th>\n",
       "      <td>001_G1_01_무광원_계기판_졸음재현_20200917_182234_02293.jpg</td>\n",
       "      <td>800</td>\n",
       "      <td>1280</td>\n",
       "      <td>sleep</td>\n",
       "      <td>False</td>\n",
       "      <td>False</td>\n",
       "      <td>False</td>\n",
       "      <td>1</td>\n",
       "      <td>True</td>\n",
       "      <td>[251, 626, 561, 900]</td>\n",
       "      <td>...</td>\n",
       "      <td>[290, 665, 366, 700]</td>\n",
       "      <td>True</td>\n",
       "      <td>[413, 658, 498, 702]</td>\n",
       "      <td>True</td>\n",
       "      <td>[350, 808, 446, 848]</td>\n",
       "      <td>False</td>\n",
       "      <td>[0, 0, 0, 0]</td>\n",
       "      <td>False</td>\n",
       "      <td>[0, 0, 0, 0]</td>\n",
       "      <td>train</td>\n",
       "    </tr>\n",
       "    <tr>\n",
       "      <th>3</th>\n",
       "      <td>001_G1_01_무광원_계기판_졸음재현_20200917_182234_02298.jpg</td>\n",
       "      <td>800</td>\n",
       "      <td>1280</td>\n",
       "      <td>sleep</td>\n",
       "      <td>False</td>\n",
       "      <td>False</td>\n",
       "      <td>False</td>\n",
       "      <td>1</td>\n",
       "      <td>True</td>\n",
       "      <td>[251, 626, 562, 901]</td>\n",
       "      <td>...</td>\n",
       "      <td>[290, 665, 366, 699]</td>\n",
       "      <td>True</td>\n",
       "      <td>[414, 658, 499, 701]</td>\n",
       "      <td>True</td>\n",
       "      <td>[350, 803, 442, 843]</td>\n",
       "      <td>False</td>\n",
       "      <td>[0, 0, 0, 0]</td>\n",
       "      <td>False</td>\n",
       "      <td>[0, 0, 0, 0]</td>\n",
       "      <td>train</td>\n",
       "    </tr>\n",
       "    <tr>\n",
       "      <th>4</th>\n",
       "      <td>001_G1_01_무광원_계기판_하품재현_20200917_182234_02459.jpg</td>\n",
       "      <td>800</td>\n",
       "      <td>1280</td>\n",
       "      <td>yawn</td>\n",
       "      <td>False</td>\n",
       "      <td>False</td>\n",
       "      <td>False</td>\n",
       "      <td>1</td>\n",
       "      <td>True</td>\n",
       "      <td>[265, 575, 561, 866]</td>\n",
       "      <td>...</td>\n",
       "      <td>[301, 612, 375, 650]</td>\n",
       "      <td>True</td>\n",
       "      <td>[420, 616, 501, 656]</td>\n",
       "      <td>True</td>\n",
       "      <td>[359, 739, 447, 807]</td>\n",
       "      <td>False</td>\n",
       "      <td>[0, 0, 0, 0]</td>\n",
       "      <td>False</td>\n",
       "      <td>[0, 0, 0, 0]</td>\n",
       "      <td>train</td>\n",
       "    </tr>\n",
       "  </tbody>\n",
       "</table>\n",
       "<p>5 rows × 21 columns</p>\n",
       "</div>"
      ],
      "text/plain": [
       "                                           FileName  Width  Height   label  \\\n",
       "0  001_G1_01_무광원_계기판_정상주시_20200917_182234_02144.jpg    800    1280  normal   \n",
       "1  001_G1_01_무광원_계기판_정상주시_20200917_182234_02150.jpg    800    1280  normal   \n",
       "2  001_G1_01_무광원_계기판_졸음재현_20200917_182234_02293.jpg    800    1280   sleep   \n",
       "3  001_G1_01_무광원_계기판_졸음재현_20200917_182234_02298.jpg    800    1280   sleep   \n",
       "4  001_G1_01_무광원_계기판_하품재현_20200917_182234_02459.jpg    800    1280    yawn   \n",
       "\n",
       "    Mask  Glasses    Cap  Annotation  Face_TF               Face_BB  ...  \\\n",
       "0  False    False  False           1     True  [245, 628, 551, 904]  ...   \n",
       "1  False    False  False           1     True  [256, 633, 561, 907]  ...   \n",
       "2  False    False  False           1     True  [251, 626, 561, 900]  ...   \n",
       "3  False    False  False           1     True  [251, 626, 562, 901]  ...   \n",
       "4  False    False  False           1     True  [265, 575, 561, 866]  ...   \n",
       "\n",
       "                Leye_BB Reye_TF               Reye_BB Mouth_TF  \\\n",
       "0  [291, 665, 373, 706]    True  [418, 660, 499, 701]     True   \n",
       "1  [298, 665, 372, 704]    True  [418, 664, 499, 705]     True   \n",
       "2  [290, 665, 366, 700]    True  [413, 658, 498, 702]     True   \n",
       "3  [290, 665, 366, 699]    True  [414, 658, 499, 701]     True   \n",
       "4  [301, 612, 375, 650]    True  [420, 616, 501, 656]     True   \n",
       "\n",
       "               Mouth_BB Cigar_TF      Cigar_BB Phone_TF      Phone_BB  \\\n",
       "0  [351, 815, 450, 848]    False  [0, 0, 0, 0]    False  [0, 0, 0, 0]   \n",
       "1  [356, 814, 450, 852]    False  [0, 0, 0, 0]    False  [0, 0, 0, 0]   \n",
       "2  [350, 808, 446, 848]    False  [0, 0, 0, 0]    False  [0, 0, 0, 0]   \n",
       "3  [350, 803, 442, 843]    False  [0, 0, 0, 0]    False  [0, 0, 0, 0]   \n",
       "4  [359, 739, 447, 807]    False  [0, 0, 0, 0]    False  [0, 0, 0, 0]   \n",
       "\n",
       "  data_type  \n",
       "0     train  \n",
       "1     train  \n",
       "2     train  \n",
       "3     train  \n",
       "4     train  \n",
       "\n",
       "[5 rows x 21 columns]"
      ]
     },
     "execution_count": 10,
     "metadata": {},
     "output_type": "execute_result"
    }
   ],
   "source": [
    "df = pd.concat([df_train, df_val])\n",
    "df.head()"
   ]
  },
  {
   "cell_type": "code",
   "execution_count": 18,
   "metadata": {},
   "outputs": [
    {
     "name": "stdout",
     "output_type": "stream",
     "text": [
      "train         100303\n",
      "validation     12563\n",
      "Name: data_type, dtype: int64\n"
     ]
    },
    {
     "data": {
      "text/plain": [
       "<AxesSubplot:xlabel='data_type', ylabel='count'>"
      ]
     },
     "execution_count": 18,
     "metadata": {},
     "output_type": "execute_result"
    },
    {
     "data": {
      "image/png": "[encoded data removed]",
      "text/plain": [
       "<Figure size 640x480 with 1 Axes>"
      ]
     },
     "metadata": {},
     "output_type": "display_data"
    }
   ],
   "source": [
    "print(df['data_type'].value_counts())\n",
    "sns.countplot(x = df['data_type'])"
   ]
  },
  {
   "cell_type": "code",
   "execution_count": 22,
   "metadata": {},
   "outputs": [
    {
     "name": "stdout",
     "output_type": "stream",
     "text": [
      "normal     50215\n",
      "sleep      24954\n",
      "call       12618\n",
      "yawn       12547\n",
      "smoking    12532\n",
      "Name: label, dtype: int64\n"
     ]
    },
    {
     "data": {
      "text/plain": [
       "<AxesSubplot:xlabel='label', ylabel='count'>"
      ]
     },
     "execution_count": 22,
     "metadata": {},
     "output_type": "execute_result"
    },
    {
     "data": {
      "image/png": "[encoded data removed]",
      "text/plain": [
       "<Figure size 640x480 with 1 Axes>"
      ]
     },
     "metadata": {},
     "output_type": "display_data"
    }
   ],
   "source": [
    "print(df['label'].value_counts())\n",
    "sns.countplot(x=df['label'])"
   ]
  },
  {
   "cell_type": "code",
   "execution_count": 13,
   "metadata": {},
   "outputs": [
    {
     "data": {
      "text/plain": [
       "800    112866\n",
       "Name: Width, dtype: int64"
      ]
     },
     "execution_count": 13,
     "metadata": {},
     "output_type": "execute_result"
    }
   ],
   "source": [
    "df['Width'].value_counts()"
   ]
  },
  {
   "cell_type": "code",
   "execution_count": 14,
   "metadata": {},
   "outputs": [
    {
     "data": {
      "text/plain": [
       "1280    112866\n",
       "Name: Height, dtype: int64"
      ]
     },
     "execution_count": 14,
     "metadata": {},
     "output_type": "execute_result"
    }
   ],
   "source": [
    "df['Height'].value_counts()"
   ]
  },
  {
   "cell_type": "code",
   "execution_count": 15,
   "metadata": {},
   "outputs": [
    {
     "data": {
      "text/plain": [
       "<AxesSubplot:xlabel='Face_TF', ylabel='count'>"
      ]
     },
     "execution_count": 15,
     "metadata": {},
     "output_type": "execute_result"
    },
    {
     "data": {
      "image/png": "[encoded data removed]",
      "text/plain": [
       "<Figure size 640x480 with 1 Axes>"
      ]
     },
     "metadata": {},
     "output_type": "display_data"
    }
   ],
   "source": [
    "sns.countplot(x=df['Face_TF'])"
   ]
  },
  {
   "cell_type": "code",
   "execution_count": 20,
   "metadata": {},
   "outputs": [
    {
     "name": "stdout",
     "output_type": "stream",
     "text": [
      "False    100331\n",
      "True      12535\n",
      "Name: Cigar_TF, dtype: int64\n"
     ]
    },
    {
     "data": {
      "text/plain": [
       "<AxesSubplot:xlabel='Cigar_TF', ylabel='count'>"
      ]
     },
     "execution_count": 20,
     "metadata": {},
     "output_type": "execute_result"
    },
    {
     "data": {
      "image/png": "[encoded data removed]",
      "text/plain": [
       "<Figure size 640x480 with 1 Axes>"
      ]
     },
     "metadata": {},
     "output_type": "display_data"
    }
   ],
   "source": [
    "print(df['Cigar_TF'].value_counts())\n",
    "sns.countplot(x=df['Cigar_TF'])"
   ]
  },
  {
   "cell_type": "code",
   "execution_count": 21,
   "metadata": {},
   "outputs": [
    {
     "name": "stdout",
     "output_type": "stream",
     "text": [
      "False    100248\n",
      "True      12618\n",
      "Name: Phone_TF, dtype: int64\n"
     ]
    },
    {
     "data": {
      "text/plain": [
       "<AxesSubplot:xlabel='Phone_TF', ylabel='count'>"
      ]
     },
     "execution_count": 21,
     "metadata": {},
     "output_type": "execute_result"
    },
    {
     "data": {
      "image/png": "[encoded data removed]",
      "text/plain": [
       "<Figure size 640x480 with 1 Axes>"
      ]
     },
     "metadata": {},
     "output_type": "display_data"
    }
   ],
   "source": [
    "print(df['Phone_TF'].value_counts())\n",
    "sns.countplot(x=df['Phone_TF'])"
   ]
  },
  {
   "cell_type": "code",
   "execution_count": null,
   "metadata": {},
   "outputs": [],
   "source": []
  }
 ],
 "metadata": {
  "kernelspec": {
   "display_name": "Python 3.8.15 ('ds_study')",
   "language": "python",
   "name": "python3"
  },
  "language_info": {
   "codemirror_mode": {
    "name": "ipython",
    "version": 3
   },
   "file_extension": ".py",
   "mimetype": "text/x-python",
   "name": "python",
   "nbconvert_exporter": "python",
   "pygments_lexer": "ipython3",
   "version": "3.8.15"
  },
  "orig_nbformat": 4,
  "vscode": {
   "interpreter": {
    "hash": "8980de4a27bf89e986bf71fe1fbb5d572934705242a5da409cea5b4049808f61"
   }
  }
 },
 "nbformat": 4,
 "nbformat_minor": 2
}
